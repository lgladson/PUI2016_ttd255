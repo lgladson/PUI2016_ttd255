{
 "cells": [
  {
   "cell_type": "code",
   "execution_count": 1,
   "metadata": {
    "collapsed": false
   },
   "outputs": [
    {
     "name": "stdout",
     "output_type": "stream",
     "text": [
      "Populating the interactive namespace from numpy and matplotlib\n"
     ]
    }
   ],
   "source": [
    "import pylab as pl\n",
    "import pandas as pd\n",
    "import numpy as np\n",
    "from getCitiBikeCSV import getCitiBikeCSV\n",
    "%pylab inline\n",
    "\n",
    "import os\n",
    "import scipy.stats\n",
    "from scipy.stats import norm"
   ]
  },
  {
   "cell_type": "code",
   "execution_count": 2,
   "metadata": {
    "collapsed": false
   },
   "outputs": [
    {
     "name": "stdout",
     "output_type": "stream",
     "text": [
      "Downloading 201505\n",
      "file in place, you can continue\n"
     ]
    }
   ],
   "source": [
    "datestring = '201505'\n",
    "getCitiBikeCSV(datestring)"
   ]
  },
  {
   "cell_type": "code",
   "execution_count": 3,
   "metadata": {
    "collapsed": false
   },
   "outputs": [
    {
     "data": {
      "text/html": [
       "<div>\n",
       "<table border=\"1\" class=\"dataframe\">\n",
       "  <thead>\n",
       "    <tr style=\"text-align: right;\">\n",
       "      <th></th>\n",
       "      <th>tripduration</th>\n",
       "      <th>starttime</th>\n",
       "      <th>stoptime</th>\n",
       "      <th>start station id</th>\n",
       "      <th>start station name</th>\n",
       "      <th>start station latitude</th>\n",
       "      <th>start station longitude</th>\n",
       "      <th>end station id</th>\n",
       "      <th>end station name</th>\n",
       "      <th>end station latitude</th>\n",
       "      <th>end station longitude</th>\n",
       "      <th>bikeid</th>\n",
       "      <th>usertype</th>\n",
       "      <th>birth year</th>\n",
       "      <th>gender</th>\n",
       "    </tr>\n",
       "  </thead>\n",
       "  <tbody>\n",
       "    <tr>\n",
       "      <th>0</th>\n",
       "      <td>415</td>\n",
       "      <td>5/1/2015 00:00:11</td>\n",
       "      <td>5/1/2015 00:07:06</td>\n",
       "      <td>477</td>\n",
       "      <td>W 41 St &amp; 8 Ave</td>\n",
       "      <td>40.756405</td>\n",
       "      <td>-73.990026</td>\n",
       "      <td>442</td>\n",
       "      <td>W 27 St &amp; 7 Ave</td>\n",
       "      <td>40.746647</td>\n",
       "      <td>-73.993915</td>\n",
       "      <td>17012</td>\n",
       "      <td>Subscriber</td>\n",
       "      <td>1981.0</td>\n",
       "      <td>1</td>\n",
       "    </tr>\n",
       "    <tr>\n",
       "      <th>1</th>\n",
       "      <td>1523</td>\n",
       "      <td>5/1/2015 00:00:28</td>\n",
       "      <td>5/1/2015 00:25:52</td>\n",
       "      <td>293</td>\n",
       "      <td>Lafayette St &amp; E 8 St</td>\n",
       "      <td>40.730287</td>\n",
       "      <td>-73.990765</td>\n",
       "      <td>324</td>\n",
       "      <td>DeKalb Ave &amp; Hudson Ave</td>\n",
       "      <td>40.689888</td>\n",
       "      <td>-73.981013</td>\n",
       "      <td>17390</td>\n",
       "      <td>Customer</td>\n",
       "      <td>NaN</td>\n",
       "      <td>0</td>\n",
       "    </tr>\n",
       "    <tr>\n",
       "      <th>2</th>\n",
       "      <td>642</td>\n",
       "      <td>5/1/2015 00:00:52</td>\n",
       "      <td>5/1/2015 00:11:35</td>\n",
       "      <td>380</td>\n",
       "      <td>W 4 St &amp; 7 Ave S</td>\n",
       "      <td>40.734011</td>\n",
       "      <td>-74.002939</td>\n",
       "      <td>507</td>\n",
       "      <td>E 25 St &amp; 2 Ave</td>\n",
       "      <td>40.739126</td>\n",
       "      <td>-73.979738</td>\n",
       "      <td>15003</td>\n",
       "      <td>Subscriber</td>\n",
       "      <td>1990.0</td>\n",
       "      <td>1</td>\n",
       "    </tr>\n",
       "    <tr>\n",
       "      <th>3</th>\n",
       "      <td>367</td>\n",
       "      <td>5/1/2015 00:00:48</td>\n",
       "      <td>5/1/2015 00:06:55</td>\n",
       "      <td>537</td>\n",
       "      <td>Lexington Ave &amp; E 24 St</td>\n",
       "      <td>40.740259</td>\n",
       "      <td>-73.984092</td>\n",
       "      <td>280</td>\n",
       "      <td>E 10 St &amp; 5 Ave</td>\n",
       "      <td>40.733320</td>\n",
       "      <td>-73.995101</td>\n",
       "      <td>14788</td>\n",
       "      <td>Subscriber</td>\n",
       "      <td>1978.0</td>\n",
       "      <td>1</td>\n",
       "    </tr>\n",
       "    <tr>\n",
       "      <th>4</th>\n",
       "      <td>2734</td>\n",
       "      <td>5/1/2015 00:00:51</td>\n",
       "      <td>5/1/2015 00:46:26</td>\n",
       "      <td>426</td>\n",
       "      <td>West St &amp; Chambers St</td>\n",
       "      <td>40.717548</td>\n",
       "      <td>-74.013221</td>\n",
       "      <td>327</td>\n",
       "      <td>Vesey Pl &amp; River Terrace</td>\n",
       "      <td>40.715338</td>\n",
       "      <td>-74.016584</td>\n",
       "      <td>21068</td>\n",
       "      <td>Subscriber</td>\n",
       "      <td>1956.0</td>\n",
       "      <td>2</td>\n",
       "    </tr>\n",
       "  </tbody>\n",
       "</table>\n",
       "</div>"
      ],
      "text/plain": [
       "   tripduration          starttime           stoptime  start station id  \\\n",
       "0           415  5/1/2015 00:00:11  5/1/2015 00:07:06               477   \n",
       "1          1523  5/1/2015 00:00:28  5/1/2015 00:25:52               293   \n",
       "2           642  5/1/2015 00:00:52  5/1/2015 00:11:35               380   \n",
       "3           367  5/1/2015 00:00:48  5/1/2015 00:06:55               537   \n",
       "4          2734  5/1/2015 00:00:51  5/1/2015 00:46:26               426   \n",
       "\n",
       "        start station name  start station latitude  start station longitude  \\\n",
       "0          W 41 St & 8 Ave               40.756405               -73.990026   \n",
       "1    Lafayette St & E 8 St               40.730287               -73.990765   \n",
       "2         W 4 St & 7 Ave S               40.734011               -74.002939   \n",
       "3  Lexington Ave & E 24 St               40.740259               -73.984092   \n",
       "4    West St & Chambers St               40.717548               -74.013221   \n",
       "\n",
       "   end station id          end station name  end station latitude  \\\n",
       "0             442           W 27 St & 7 Ave             40.746647   \n",
       "1             324   DeKalb Ave & Hudson Ave             40.689888   \n",
       "2             507           E 25 St & 2 Ave             40.739126   \n",
       "3             280           E 10 St & 5 Ave             40.733320   \n",
       "4             327  Vesey Pl & River Terrace             40.715338   \n",
       "\n",
       "   end station longitude  bikeid    usertype  birth year  gender  \n",
       "0             -73.993915   17012  Subscriber      1981.0       1  \n",
       "1             -73.981013   17390    Customer         NaN       0  \n",
       "2             -73.979738   15003  Subscriber      1990.0       1  \n",
       "3             -73.995101   14788  Subscriber      1978.0       1  \n",
       "4             -74.016584   21068  Subscriber      1956.0       2  "
      ]
     },
     "execution_count": 3,
     "metadata": {},
     "output_type": "execute_result"
    }
   ],
   "source": [
    "df = pd.read_csv(os.getenv(\"PUIDATA\") + \"/\" + datestring + '-citibike-tripdata.csv')\n",
    "df.head()"
   ]
  },
  {
   "cell_type": "code",
   "execution_count": 4,
   "metadata": {
    "collapsed": false
   },
   "outputs": [
    {
     "data": {
      "text/html": [
       "<div>\n",
       "<table border=\"1\" class=\"dataframe\">\n",
       "  <thead>\n",
       "    <tr style=\"text-align: right;\">\n",
       "      <th></th>\n",
       "      <th>tripduration</th>\n",
       "      <th>starttime</th>\n",
       "      <th>stoptime</th>\n",
       "      <th>start station id</th>\n",
       "      <th>start station name</th>\n",
       "      <th>start station latitude</th>\n",
       "      <th>start station longitude</th>\n",
       "      <th>end station id</th>\n",
       "      <th>end station name</th>\n",
       "      <th>end station latitude</th>\n",
       "      <th>end station longitude</th>\n",
       "      <th>bikeid</th>\n",
       "      <th>usertype</th>\n",
       "      <th>birth year</th>\n",
       "      <th>gender</th>\n",
       "      <th>date</th>\n",
       "    </tr>\n",
       "  </thead>\n",
       "  <tbody>\n",
       "    <tr>\n",
       "      <th>0</th>\n",
       "      <td>415</td>\n",
       "      <td>5/1/2015 00:00:11</td>\n",
       "      <td>5/1/2015 00:07:06</td>\n",
       "      <td>477</td>\n",
       "      <td>W 41 St &amp; 8 Ave</td>\n",
       "      <td>40.756405</td>\n",
       "      <td>-73.990026</td>\n",
       "      <td>442</td>\n",
       "      <td>W 27 St &amp; 7 Ave</td>\n",
       "      <td>40.746647</td>\n",
       "      <td>-73.993915</td>\n",
       "      <td>17012</td>\n",
       "      <td>Subscriber</td>\n",
       "      <td>1981.0</td>\n",
       "      <td>1</td>\n",
       "      <td>2015-05-01 00:00:11</td>\n",
       "    </tr>\n",
       "    <tr>\n",
       "      <th>1</th>\n",
       "      <td>1523</td>\n",
       "      <td>5/1/2015 00:00:28</td>\n",
       "      <td>5/1/2015 00:25:52</td>\n",
       "      <td>293</td>\n",
       "      <td>Lafayette St &amp; E 8 St</td>\n",
       "      <td>40.730287</td>\n",
       "      <td>-73.990765</td>\n",
       "      <td>324</td>\n",
       "      <td>DeKalb Ave &amp; Hudson Ave</td>\n",
       "      <td>40.689888</td>\n",
       "      <td>-73.981013</td>\n",
       "      <td>17390</td>\n",
       "      <td>Customer</td>\n",
       "      <td>NaN</td>\n",
       "      <td>0</td>\n",
       "      <td>2015-05-01 00:00:28</td>\n",
       "    </tr>\n",
       "    <tr>\n",
       "      <th>2</th>\n",
       "      <td>642</td>\n",
       "      <td>5/1/2015 00:00:52</td>\n",
       "      <td>5/1/2015 00:11:35</td>\n",
       "      <td>380</td>\n",
       "      <td>W 4 St &amp; 7 Ave S</td>\n",
       "      <td>40.734011</td>\n",
       "      <td>-74.002939</td>\n",
       "      <td>507</td>\n",
       "      <td>E 25 St &amp; 2 Ave</td>\n",
       "      <td>40.739126</td>\n",
       "      <td>-73.979738</td>\n",
       "      <td>15003</td>\n",
       "      <td>Subscriber</td>\n",
       "      <td>1990.0</td>\n",
       "      <td>1</td>\n",
       "      <td>2015-05-01 00:00:52</td>\n",
       "    </tr>\n",
       "    <tr>\n",
       "      <th>3</th>\n",
       "      <td>367</td>\n",
       "      <td>5/1/2015 00:00:48</td>\n",
       "      <td>5/1/2015 00:06:55</td>\n",
       "      <td>537</td>\n",
       "      <td>Lexington Ave &amp; E 24 St</td>\n",
       "      <td>40.740259</td>\n",
       "      <td>-73.984092</td>\n",
       "      <td>280</td>\n",
       "      <td>E 10 St &amp; 5 Ave</td>\n",
       "      <td>40.733320</td>\n",
       "      <td>-73.995101</td>\n",
       "      <td>14788</td>\n",
       "      <td>Subscriber</td>\n",
       "      <td>1978.0</td>\n",
       "      <td>1</td>\n",
       "      <td>2015-05-01 00:00:48</td>\n",
       "    </tr>\n",
       "    <tr>\n",
       "      <th>4</th>\n",
       "      <td>2734</td>\n",
       "      <td>5/1/2015 00:00:51</td>\n",
       "      <td>5/1/2015 00:46:26</td>\n",
       "      <td>426</td>\n",
       "      <td>West St &amp; Chambers St</td>\n",
       "      <td>40.717548</td>\n",
       "      <td>-74.013221</td>\n",
       "      <td>327</td>\n",
       "      <td>Vesey Pl &amp; River Terrace</td>\n",
       "      <td>40.715338</td>\n",
       "      <td>-74.016584</td>\n",
       "      <td>21068</td>\n",
       "      <td>Subscriber</td>\n",
       "      <td>1956.0</td>\n",
       "      <td>2</td>\n",
       "      <td>2015-05-01 00:00:51</td>\n",
       "    </tr>\n",
       "  </tbody>\n",
       "</table>\n",
       "</div>"
      ],
      "text/plain": [
       "   tripduration          starttime           stoptime  start station id  \\\n",
       "0           415  5/1/2015 00:00:11  5/1/2015 00:07:06               477   \n",
       "1          1523  5/1/2015 00:00:28  5/1/2015 00:25:52               293   \n",
       "2           642  5/1/2015 00:00:52  5/1/2015 00:11:35               380   \n",
       "3           367  5/1/2015 00:00:48  5/1/2015 00:06:55               537   \n",
       "4          2734  5/1/2015 00:00:51  5/1/2015 00:46:26               426   \n",
       "\n",
       "        start station name  start station latitude  start station longitude  \\\n",
       "0          W 41 St & 8 Ave               40.756405               -73.990026   \n",
       "1    Lafayette St & E 8 St               40.730287               -73.990765   \n",
       "2         W 4 St & 7 Ave S               40.734011               -74.002939   \n",
       "3  Lexington Ave & E 24 St               40.740259               -73.984092   \n",
       "4    West St & Chambers St               40.717548               -74.013221   \n",
       "\n",
       "   end station id          end station name  end station latitude  \\\n",
       "0             442           W 27 St & 7 Ave             40.746647   \n",
       "1             324   DeKalb Ave & Hudson Ave             40.689888   \n",
       "2             507           E 25 St & 2 Ave             40.739126   \n",
       "3             280           E 10 St & 5 Ave             40.733320   \n",
       "4             327  Vesey Pl & River Terrace             40.715338   \n",
       "\n",
       "   end station longitude  bikeid    usertype  birth year  gender  \\\n",
       "0             -73.993915   17012  Subscriber      1981.0       1   \n",
       "1             -73.981013   17390    Customer         NaN       0   \n",
       "2             -73.979738   15003  Subscriber      1990.0       1   \n",
       "3             -73.995101   14788  Subscriber      1978.0       1   \n",
       "4             -74.016584   21068  Subscriber      1956.0       2   \n",
       "\n",
       "                 date  \n",
       "0 2015-05-01 00:00:11  \n",
       "1 2015-05-01 00:00:28  \n",
       "2 2015-05-01 00:00:52  \n",
       "3 2015-05-01 00:00:48  \n",
       "4 2015-05-01 00:00:51  "
      ]
     },
     "execution_count": 4,
     "metadata": {},
     "output_type": "execute_result"
    }
   ],
   "source": [
    "df['date'] = pd.to_datetime(df['starttime'])\n",
    "df.head()"
   ]
  },
  {
   "cell_type": "code",
   "execution_count": 5,
   "metadata": {
    "collapsed": true
   },
   "outputs": [],
   "source": [
    "df['age'] = 2015 - df['birth year'][(df['usertype'] == 'Subscriber')]"
   ]
  },
  {
   "cell_type": "code",
   "execution_count": 6,
   "metadata": {
    "collapsed": false
   },
   "outputs": [],
   "source": [
    "df = df[df.age <= 100]"
   ]
  },
  {
   "cell_type": "code",
   "execution_count": 7,
   "metadata": {
    "collapsed": false
   },
   "outputs": [
    {
     "data": {
      "text/plain": [
       "0         34.0\n",
       "2         25.0\n",
       "3         37.0\n",
       "4         59.0\n",
       "5         54.0\n",
       "6         44.0\n",
       "7         22.0\n",
       "8         57.0\n",
       "9         50.0\n",
       "11        41.0\n",
       "13        29.0\n",
       "14        46.0\n",
       "15        34.0\n",
       "16        44.0\n",
       "18        28.0\n",
       "19        34.0\n",
       "20        45.0\n",
       "21        25.0\n",
       "22        26.0\n",
       "23        36.0\n",
       "24        52.0\n",
       "25        25.0\n",
       "26        26.0\n",
       "27        20.0\n",
       "28        39.0\n",
       "29        45.0\n",
       "30        64.0\n",
       "31        26.0\n",
       "32        31.0\n",
       "33        31.0\n",
       "          ... \n",
       "961952    71.0\n",
       "961954    26.0\n",
       "961956    47.0\n",
       "961957    25.0\n",
       "961958    49.0\n",
       "961959    49.0\n",
       "961961    51.0\n",
       "961962    18.0\n",
       "961963    30.0\n",
       "961964    26.0\n",
       "961965    34.0\n",
       "961966    25.0\n",
       "961967    48.0\n",
       "961968    31.0\n",
       "961969    34.0\n",
       "961970    33.0\n",
       "961971    33.0\n",
       "961972    28.0\n",
       "961973    25.0\n",
       "961974    28.0\n",
       "961975    35.0\n",
       "961976    30.0\n",
       "961977    49.0\n",
       "961979    33.0\n",
       "961980    36.0\n",
       "961981    37.0\n",
       "961982    56.0\n",
       "961983    51.0\n",
       "961984    30.0\n",
       "961985    30.0\n",
       "Name: age, dtype: float64"
      ]
     },
     "execution_count": 7,
     "metadata": {},
     "output_type": "execute_result"
    }
   ],
   "source": [
    "df.age.astype('float64', raise_on_error = False)"
   ]
  },
  {
   "cell_type": "code",
   "execution_count": 8,
   "metadata": {
    "collapsed": false
   },
   "outputs": [
    {
     "data": {
      "text/plain": [
       "<bound method Series.dropna of 0         34.0\n",
       "2         25.0\n",
       "3         37.0\n",
       "4         59.0\n",
       "5         54.0\n",
       "6         44.0\n",
       "7         22.0\n",
       "8         57.0\n",
       "9         50.0\n",
       "11        41.0\n",
       "13        29.0\n",
       "14        46.0\n",
       "15        34.0\n",
       "16        44.0\n",
       "18        28.0\n",
       "19        34.0\n",
       "20        45.0\n",
       "21        25.0\n",
       "22        26.0\n",
       "23        36.0\n",
       "24        52.0\n",
       "25        25.0\n",
       "26        26.0\n",
       "27        20.0\n",
       "28        39.0\n",
       "29        45.0\n",
       "30        64.0\n",
       "31        26.0\n",
       "32        31.0\n",
       "33        31.0\n",
       "          ... \n",
       "961952    71.0\n",
       "961954    26.0\n",
       "961956    47.0\n",
       "961957    25.0\n",
       "961958    49.0\n",
       "961959    49.0\n",
       "961961    51.0\n",
       "961962    18.0\n",
       "961963    30.0\n",
       "961964    26.0\n",
       "961965    34.0\n",
       "961966    25.0\n",
       "961967    48.0\n",
       "961968    31.0\n",
       "961969    34.0\n",
       "961970    33.0\n",
       "961971    33.0\n",
       "961972    28.0\n",
       "961973    25.0\n",
       "961974    28.0\n",
       "961975    35.0\n",
       "961976    30.0\n",
       "961977    49.0\n",
       "961979    33.0\n",
       "961980    36.0\n",
       "961981    37.0\n",
       "961982    56.0\n",
       "961983    51.0\n",
       "961984    30.0\n",
       "961985    30.0\n",
       "Name: age, dtype: float64>"
      ]
     },
     "execution_count": 8,
     "metadata": {},
     "output_type": "execute_result"
    }
   ],
   "source": [
    "df.age.dropna"
   ]
  },
  {
   "cell_type": "code",
   "execution_count": 9,
   "metadata": {
    "collapsed": false
   },
   "outputs": [
    {
     "name": "stdout",
     "output_type": "stream",
     "text": [
      "age rider dis on normal dis KstestResult(statistic=1.0, pvalue=0.0)\n"
     ]
    }
   ],
   "source": [
    "print (\"age rider dis on normal dis\", scipy.stats.kstest(df.age,'norm'))"
   ]
  },
  {
   "cell_type": "markdown",
   "metadata": {},
   "source": [
    "### Standardize the age distribution to a distribution with mean value of zero and standard deviation of 1"
   ]
  },
  {
   "cell_type": "code",
   "execution_count": 10,
   "metadata": {
    "collapsed": true
   },
   "outputs": [],
   "source": [
    "dis_age = (df.age - df.age.mean())/df.age.std()"
   ]
  },
  {
   "cell_type": "markdown",
   "metadata": {},
   "source": [
    "### Compared the standardized age distribution with the Normal distribution (mean = 0, std = 1) using two tests"
   ]
  },
  {
   "cell_type": "markdown",
   "metadata": {},
   "source": [
    "### Null Hypothesis: The biker age distribution follows the Normal distribution\n",
    "Significance level: 5%"
   ]
  },
  {
   "cell_type": "markdown",
   "metadata": {},
   "source": [
    "### The KS Test"
   ]
  },
  {
   "cell_type": "code",
   "execution_count": 11,
   "metadata": {
    "collapsed": false
   },
   "outputs": [
    {
     "name": "stdout",
     "output_type": "stream",
     "text": [
      "age dis on normal dis KstestResult(statistic=0.10273245786261104, pvalue=0.0)\n"
     ]
    }
   ],
   "source": [
    "print (\"age dis on normal dis\", scipy.stats.kstest(dis_age,'norm'))"
   ]
  },
  {
   "cell_type": "markdown",
   "metadata": {},
   "source": [
    "### Since the p-value (~0.0) is smaller than the significance level 5%, we are able to reject the null hypothesis."
   ]
  },
  {
   "cell_type": "markdown",
   "metadata": {},
   "source": [
    "### The Anderson Test"
   ]
  },
  {
   "cell_type": "code",
   "execution_count": 12,
   "metadata": {
    "collapsed": false,
    "scrolled": false
   },
   "outputs": [
    {
     "name": "stdout",
     "output_type": "stream",
     "text": [
      "age dis on normal dis AndersonResult(statistic=10944.828840559814, critical_values=array([ 0.576,  0.656,  0.787,  0.918,  1.092]), significance_level=array([ 15. ,  10. ,   5. ,   2.5,   1. ]))\n"
     ]
    }
   ],
   "source": [
    "print (\"age dis on normal dis\", scipy.stats.anderson(dis_age, dist='norm'))"
   ]
  },
  {
   "cell_type": "markdown",
   "metadata": {},
   "source": [
    "### Since the statistic coefficient value is larger than 0.656 (The statistic coefficient for the significance level 5%), we are able to reject the null hypothesis."
   ]
  },
  {
   "cell_type": "code",
   "execution_count": 13,
   "metadata": {
    "collapsed": false,
    "scrolled": true
   },
   "outputs": [
    {
     "data": {
      "text/plain": [
       "<matplotlib.text.Text at 0x7f8aca1b7d30>"
      ]
     },
     "execution_count": 13,
     "metadata": {},
     "output_type": "execute_result"
    },
    {
     "data": {
      "image/png": "[encoded data removed]",
      "text/plain": [
       "<matplotlib.figure.Figure at 0x7f8aca1e2828>"
      ]
     },
     "metadata": {},
     "output_type": "display_data"
    }
   ],
   "source": [
    "pl.hist(dis_age, normed = True)\n",
    "pl.plot(arange(-3,6,0.1),norm.pdf(arange(-3,6,0.1),0,1))\n",
    "pl.title('Age distribution vs Normal distribution')"
   ]
  },
  {
   "cell_type": "markdown",
   "metadata": {},
   "source": [
    "If we have many samples, then the distribution of the mean age values from those samples will resemble the normal distribution."
   ]
  },
  {
   "cell_type": "markdown",
   "metadata": {},
   "source": [
    "### Standardize the age distribution to a distribution with mean value of 1 and standard deviation of 1"
   ]
  },
  {
   "cell_type": "code",
   "execution_count": 14,
   "metadata": {
    "collapsed": false
   },
   "outputs": [],
   "source": [
    "dis_age_expon = (df.age - df.age.mean())/df.age.std()+1"
   ]
  },
  {
   "cell_type": "markdown",
   "metadata": {},
   "source": [
    "### Compared the standardized age distribution with the Exponential distribution (mean = 1, std = 1) using two tests"
   ]
  },
  {
   "cell_type": "markdown",
   "metadata": {},
   "source": [
    "### Null Hypothesis: The biker age distribution follows the Exponential distribution\n",
    "Significance level: 5%"
   ]
  },
  {
   "cell_type": "markdown",
   "metadata": {},
   "source": [
    "### The KS Test"
   ]
  },
  {
   "cell_type": "code",
   "execution_count": 15,
   "metadata": {
    "collapsed": false
   },
   "outputs": [
    {
     "name": "stdout",
     "output_type": "stream",
     "text": [
      "age dis on normal dis KstestResult(statistic=0.16630003513114999, pvalue=0.0)\n"
     ]
    }
   ],
   "source": [
    "print (\"age dis on normal dis\", scipy.stats.kstest(dis_age_expon,'expon'))"
   ]
  },
  {
   "cell_type": "markdown",
   "metadata": {},
   "source": [
    "### Since the p-value (~0.0) is smaller than the significance level 5%, we are able to reject the hypothesis."
   ]
  },
  {
   "cell_type": "markdown",
   "metadata": {},
   "source": [
    "### The Anderson Test"
   ]
  },
  {
   "cell_type": "code",
   "execution_count": 16,
   "metadata": {
    "collapsed": false
   },
   "outputs": [
    {
     "name": "stdout",
     "output_type": "stream",
     "text": [
      "age dis on normal dis AndersonResult(statistic=186314.48622943391, critical_values=array([ 0.922,  1.078,  1.341,  1.606,  1.957]), significance_level=array([ 15. ,  10. ,   5. ,   2.5,   1. ]))\n"
     ]
    }
   ],
   "source": [
    "print (\"age dis on normal dis\", scipy.stats.anderson(df.age, dist = 'expon'))"
   ]
  },
  {
   "cell_type": "markdown",
   "metadata": {},
   "source": [
    "### Since the statistic coefficient value is larger than 1 (The statistic coefficient for the significance level 5%), we are able to reject the null hypothesis."
   ]
  },
  {
   "cell_type": "markdown",
   "metadata": {
    "collapsed": true
   },
   "source": [
    "### Graph"
   ]
  },
  {
   "cell_type": "code",
   "execution_count": 17,
   "metadata": {
    "collapsed": false
   },
   "outputs": [
    {
     "name": "stdout",
     "output_type": "stream",
     "text": [
      "-0.998417357335\n",
      "6.21322895306\n"
     ]
    }
   ],
   "source": [
    "print(dis_age_expon.min())\n",
    "print(dis_age_expon.max())"
   ]
  },
  {
   "cell_type": "code",
   "execution_count": 18,
   "metadata": {
    "collapsed": false,
    "scrolled": true
   },
   "outputs": [
    {
     "data": {
      "text/plain": [
       "<matplotlib.text.Text at 0x7f8ac9e73e10>"
      ]
     },
     "execution_count": 18,
     "metadata": {},
     "output_type": "execute_result"
    },
    {
     "data": {
      "image/png": "[encoded data removed]",
      "text/plain": [
       "<matplotlib.figure.Figure at 0x7f8aca15d2b0>"
      ]
     },
     "metadata": {},
     "output_type": "display_data"
    }
   ],
   "source": [
    "pl.hist(dis_age_expon, normed = True)\n",
    "pl.plot(arange(0,6,0.1),scipy.stats.expon.pdf(arange(0,6,0.1)))\n",
    "pl.title('Age distribution vs Exponential distribution')"
   ]
  },
  {
   "cell_type": "markdown",
   "metadata": {},
   "source": []
  }
 ],
 "metadata": {
  "kernelspec": {
   "display_name": "PUI2016_Python3",
   "language": "python",
   "name": "pui2016_python3"
  },
  "language_info": {
   "codemirror_mode": {
    "name": "ipython",
    "version": 3
   },
   "file_extension": ".py",
   "mimetype": "text/x-python",
   "name": "python",
   "nbconvert_exporter": "python",
   "pygments_lexer": "ipython3",
   "version": "3.5.2"
  }
 },
 "nbformat": 4,
 "nbformat_minor": 0
}
